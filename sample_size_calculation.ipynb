{
 "cells": [
  {
   "cell_type": "markdown",
   "metadata": {},
   "source": [
    "<center>\n",
    "<p>\n",
    "    <center>\n",
    "    <b>CALCULADORAS PARA TAMAÑO MUESTRAL</b> \n",
    "    </center>\n",
    "</p>\n"
   ]
  },
  {
   "cell_type": "markdown",
   "metadata": {},
   "source": [
    "\n",
    "<div class=\"alert alert-block alert-info\" style=\"margin-top: 20px\">\n",
    "<p>\n",
    "    <b>CÁLCULO TAMAÑO MUIESTRAL PARA PROPORCIONES.</b>\n",
    "     Enlaces a la documentación de referencia:\n",
    "       <li><a href=\"http://jpktd.blogspot.com/2013/03/statistical-power-in-statsmodels.html\">Statistical Power in Statsmodels</a>\n",
    "       <li><a href=\"https://towardsdatascience.com/ab-testing-with-python-e5964dd66143\">A/B testing: A step-by-step guide in Python</a></li>    \n",
    "    \n",
    "</p>\n",
    "</div>\n",
    "\n"
   ]
  },
  {
   "cell_type": "code",
   "execution_count": null,
   "metadata": {},
   "outputs": [],
   "source": [
    "Este es para ver como va lo de Gitbhub. "
   ]
  },
  {
   "cell_type": "code",
   "execution_count": null,
   "metadata": {},
   "outputs": [],
   "source": [
    "Segunda prueba, esta vez desde Jupyter :)"
   ]
  },
  {
   "cell_type": "markdown",
   "metadata": {},
   "source": [
    "#### Packages"
   ]
  },
  {
   "cell_type": "code",
   "execution_count": 1,
   "metadata": {},
   "outputs": [
    {
     "name": "stdout",
     "output_type": "stream",
     "text": [
      "/Users/javier.roldan/AB Testing\n"
     ]
    }
   ],
   "source": [
    "import os\n",
    "print(os.path.abspath('.'))"
   ]
  },
  {
   "cell_type": "code",
   "execution_count": 194,
   "metadata": {},
   "outputs": [],
   "source": [
    "import numpy as np\n",
    "import pandas as pd\n",
    "import scipy.stats as stats\n",
    "import statsmodels.stats.api as sms\n",
    "import matplotlib as mpl\n",
    "import matplotlib.pyplot as plt\n",
    "import seaborn as sns\n",
    "from math import ceil\n",
    "%matplotlib inline"
   ]
  },
  {
   "cell_type": "markdown",
   "metadata": {},
   "source": [
    "#### Contexto estadístico para control Error Tipo I y Error Tipo II"
   ]
  },
  {
   "cell_type": "code",
   "execution_count": 195,
   "metadata": {},
   "outputs": [],
   "source": [
    "p = 0.8 # potecia\n",
    "signific=0.05 # nivel de significancia"
   ]
  },
  {
   "cell_type": "markdown",
   "metadata": {},
   "source": [
    "#### Contexto del experimento, proporción base y minimum detectable effect"
   ]
  },
  {
   "cell_type": "code",
   "execution_count": 196,
   "metadata": {},
   "outputs": [],
   "source": [
    "p1=0.0140 # proporción base\n",
    "mde=0.05 # minimnum detectable effect"
   ]
  },
  {
   "cell_type": "markdown",
   "metadata": {},
   "source": [
    "## Usando statsmodels"
   ]
  },
  {
   "cell_type": "code",
   "execution_count": 197,
   "metadata": {},
   "outputs": [
    {
     "name": "stdout",
     "output_type": "stream",
     "text": [
      "El tamaño muestral requerido por variante es: 453056\n"
     ]
    }
   ],
   "source": [
    "effect_size = sms.proportion_effectsize(p1, (p1 + (p1*mde)))    # Calculating effect size based on our expected rates\n",
    "\n",
    "# Calculating sample size needed\n",
    "required_n = sms.NormalIndPower().solve_power(effect_size, \n",
    "                                              power=0.8, \n",
    "                                              alpha=0.05, \n",
    "                                              ratio=1)                                                  \n",
    "\n",
    "# Rounding up to next whole number    \n",
    "\n",
    "required_n = ceil(required_n)     \n",
    "\n",
    "print(\"El tamaño muestral requerido por variante es: \"+str(round(required_n)))\n",
    "                      "
   ]
  },
  {
   "cell_type": "markdown",
   "metadata": {},
   "source": [
    "## Creando la formula nosotros mismos"
   ]
  },
  {
   "cell_type": "code",
   "execution_count": 198,
   "metadata": {},
   "outputs": [
    {
     "name": "stdout",
     "output_type": "stream",
     "text": [
      "El tamaño muestral requerido por variante es: 453123\n"
     ]
    }
   ],
   "source": [
    "def sample_power_proportions(p1, p2, power=0.8, sig=0.05):\n",
    "    ## raw implementation of sample size formula  for fractional metrics\n",
    "    z = norm.isf([sig/2])  \n",
    "    zp = -1 * norm.isf([power]) \n",
    "    d = (p1-p2)\n",
    "    s =2*((p1+p2) /2)*(1-((p1+p2) /2))\n",
    "    n = s * ((zp + z)**2) / (d**2)\n",
    "    return int(round(n[0]))\n",
    "\n",
    "n = sample_power_fractional(p1, (p1 + (p1*0.05)), p, signific)\n",
    "\n",
    "print(\"El tamaño muestral requerido por variante es: \"+str(round(n)))"
   ]
  },
  {
   "cell_type": "markdown",
   "metadata": {},
   "source": [
    "\n",
    "<div class=\"alert alert-block alert-info\" style=\"margin-top: 20px\">\n",
    "<p>\n",
    "    <b>CÁLCULO TAMAÑO MUESTRAL PARA PROMEDIOS.</b>\n",
    "     Enlaces a la documentación de referencia:\n",
    "       <li><a href=\"https://pages.github.mpi-internal.com/data-and-insight/tutorial_sample_size/Power%20Analysis%20in%20Python%20-%20test%20case.html\">Sample Size tutorial</a>\n",
    "       \n",
    "    \n",
    "</p>\n",
    "</div>\n",
    "\n"
   ]
  },
  {
   "cell_type": "markdown",
   "metadata": {},
   "source": [
    "#### Packages"
   ]
  },
  {
   "cell_type": "code",
   "execution_count": 199,
   "metadata": {},
   "outputs": [],
   "source": [
    "## import function\n",
    "import numpy as np\n",
    "import pandas as pd\n",
    "\n",
    "from statsmodels.stats.power import TTestIndPower\n",
    "from scipy.stats import ttest_ind,norm, zscore\n",
    "\n",
    "import seaborn as sns\n",
    "import matplotlib.pyplot as plt\n"
   ]
  },
  {
   "cell_type": "markdown",
   "metadata": {},
   "source": [
    "#### Contexto estadístico para control Error Tipo I y Error Tipo II"
   ]
  },
  {
   "cell_type": "code",
   "execution_count": 200,
   "metadata": {},
   "outputs": [],
   "source": [
    "p = 0.8 # potecia\n",
    "sig=0.05 # nivel de significancia"
   ]
  },
  {
   "cell_type": "markdown",
   "metadata": {},
   "source": [
    "#### Contexto del experimento, promedio base; minimum detectable effect; desviacion estandard"
   ]
  },
  {
   "cell_type": "code",
   "execution_count": 202,
   "metadata": {},
   "outputs": [],
   "source": [
    "mu=4.61\n",
    "mde = 0.02\n",
    "sigma=9.25\n",
    "\n",
    "diff_mu = (1+mde)*mu - mu\n",
    "size = diff_mu/sigma"
   ]
  },
  {
   "cell_type": "markdown",
   "metadata": {},
   "source": [
    "## Usando statsmodels"
   ]
  },
  {
   "cell_type": "code",
   "execution_count": 203,
   "metadata": {},
   "outputs": [
    {
     "name": "stdout",
     "output_type": "stream",
     "text": [
      "El tamaño muestral requerido por variante es: 158001\n"
     ]
    }
   ],
   "source": [
    "n=TTestIndPower().solve_power(effect_size = size, \n",
    "                              power = p, \n",
    "                              alpha = sig)\n",
    "\n",
    "print(\"El tamaño muestral requerido por variante es: \"+str(round(n)))"
   ]
  },
  {
   "cell_type": "markdown",
   "metadata": {},
   "source": [
    "## Creando la formula nosotros mismos"
   ]
  },
  {
   "cell_type": "code",
   "execution_count": 204,
   "metadata": {},
   "outputs": [],
   "source": [
    "def sample_power_continous(mu, sigma, perc_increase, power=0.8, sig=0.05):\n",
    "    ### raw implementation of sample size formula for continuous metric\n",
    "    z = norm.isf([sig/2])  \n",
    "    zp = -1 * norm.isf([power]) \n",
    "\n",
    "    diff_mu = (1+perc_increase)*mu - mu\n",
    "    size = diff_mu/sigma\n",
    "    n = 2 * ((zp + z)**2) / (size**2)\n",
    "    return int(round(n[0]))"
   ]
  },
  {
   "cell_type": "code",
   "execution_count": 205,
   "metadata": {},
   "outputs": [
    {
     "name": "stdout",
     "output_type": "stream",
     "text": [
      "El tamaño muestral requerido por variante es: 158001\n"
     ]
    }
   ],
   "source": [
    "n = sample_power_continous(mu, sigma, mde, p, sig)\n",
    "\n",
    "print(\"El tamaño muestral requerido por variante es: \"+str(round(n)))"
   ]
  },
  {
   "cell_type": "code",
   "execution_count": null,
   "metadata": {},
   "outputs": [],
   "source": []
  }
 ],
 "metadata": {
  "kernelspec": {
   "display_name": "Python 3",
   "language": "python",
   "name": "python3"
  },
  "language_info": {
   "codemirror_mode": {
    "name": "ipython",
    "version": 3
   },
   "file_extension": ".py",
   "mimetype": "text/x-python",
   "name": "python",
   "nbconvert_exporter": "python",
   "pygments_lexer": "ipython3",
   "version": "3.8.5"
  }
 },
 "nbformat": 4,
 "nbformat_minor": 4
}
